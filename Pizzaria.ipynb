{
  "cells": [
    {
      "cell_type": "markdown",
      "metadata": {
        "id": "view-in-github",
        "colab_type": "text"
      },
      "source": [
        "<a href=\"https://colab.research.google.com/github/IgorGava/Garra-packet/blob/main/Pizzaria.ipynb\" target=\"_parent\"><img src=\"https://colab.research.google.com/assets/colab-badge.svg\" alt=\"Open In Colab\"/></a>"
      ]
    },
    {
      "cell_type": "code",
      "source": [
        "import sys\n",
        "\n",
        "nome = input('Digite seu nome ')\n",
        "telefone = input('Digite seu telefone ')\n",
        "cep = input('Digite seu cep ')\n",
        "endereco = input('Digite seu endereço ')\n",
        "\n",
        "try:\n",
        "    Login = input('Login: ')\n",
        "    Senha = input('Senha: ')\n",
        "    with open(\"/content/sample_data/usuario.txt\", \"r\") as arq:\n",
        "        for linha in arq:\n",
        "            linhax = linha.split(\";\")\n",
        "            if Login == linhax[0].strip() and Senha == linhax[1].strip():\n",
        "                print('acesso permitido')\n",
        "                while True:\n",
        "                    print(\"Cardapio de Pizzas\")\n",
        "                    print(\"1 Portuguesa - R$ 27,90\")\n",
        "                    print(\"2 4 Queijos - R$ 30.99\")\n",
        "                    print(\"3 Califórnia - R$ 40.90\")\n",
        "                    print(\"4 Beijinho - R$ 29.99\")\n",
        "                    print(\"5 Baiana - R$ 35.90\")\n",
        "                    print(\"6 Nutella - R$ 38.99\")\n",
        "\n",
        "                    cardapio = [0, 27.9, 30.9, 40.9, 29.99, 35.90, 38.99, 0]\n",
        "                    totalpedido = 0\n",
        "\n",
        "                    for i in range(1, len(cardapio)):\n",
        "                        print(f\"{i} - Pizza {i}: R$ {cardapio[i]}\")\n",
        "                    \n",
        "                    while True:\n",
        "                        pedido = input('Digite o número da pizza que deseja ou digite 0 para finalizar o pedido: ')\n",
        "                        try:\n",
        "                            pedido = int(pedido)\n",
        "                            if pedido == 0:\n",
        "                                break\n",
        "                            elif pedido < 1 or pedido > 6:\n",
        "                                print(\"Opção inválida, tente novamente\")\n",
        "                            else:\n",
        "                                print(f'Pizza escolhida: {cardapio[pedido]}')\n",
        "                                totalpedido += cardapio[pedido]\n",
        "                        except ValueError:\n",
        "                            print(\"Opção inválida, tente novamente\")\n",
        "\n",
        "                    print(f'seu pedido deu um total de {totalpedido} reais')\n",
        "                    desejo = input('Deseja inserir mais um pedido S/N')\n",
        "                    if desejo.upper() == 'N':\n",
        "                      print('pedido finalizado, gradeçemos a preferencia, volte sempre.')\n",
        "                      break\n",
        "                break\n",
        "\n",
        "        else:\n",
        "            print('Acesso negado')\n",
        "\n",
        "except:\n",
        "    print('erro geral', sys.exc_info()[0])"
      ],
      "metadata": {
        "id": "MHfIy4hxzAMK",
        "outputId": "2ecb4164-70f9-49c1-b0c8-69d97090ae44",
        "colab": {
          "base_uri": "https://localhost:8080/"
        }
      },
      "execution_count": 21,
      "outputs": [
        {
          "output_type": "stream",
          "name": "stdout",
          "text": [
            "Digite seu nome igor gava\n",
            "Digite seu telefone 3020101396\n",
            "Digite seu cep 13423342\n",
            "Digite seu endereço rua sao jose 222\n",
            "Login: igorgava\n",
            "Senha: 123321\n",
            "acesso permitido\n",
            "Cardapio de Pizzas\n",
            "1 Portuguesa - R$ 27,90\n",
            "2 4 Queijos - R$ 30.99\n",
            "3 Califórnia - R$ 40.90\n",
            "4 Beijinho - R$ 29.99\n",
            "5 Baiana - R$ 35.90\n",
            "6 Nutella - R$ 38.99\n",
            "1 - Pizza 1: R$ 27.9\n",
            "2 - Pizza 2: R$ 30.9\n",
            "3 - Pizza 3: R$ 40.9\n",
            "4 - Pizza 4: R$ 29.99\n",
            "5 - Pizza 5: R$ 35.9\n",
            "6 - Pizza 6: R$ 38.99\n",
            "7 - Pizza 7: R$ 0\n",
            "Digite o número da pizza que deseja ou digite 0 para finalizar o pedido: 3\n",
            "Pizza escolhida: 40.9\n",
            "Digite o número da pizza que deseja ou digite 0 para finalizar o pedido: 2\n",
            "Pizza escolhida: 30.9\n",
            "Digite o número da pizza que deseja ou digite 0 para finalizar o pedido: 0\n",
            "seu pedido deu um total de 71.8 reais\n",
            "Deseja inserir mais um pedido S/Nn\n",
            "pedido finalizado, gradeçemos a preferencia, volte sempre.\n"
          ]
        }
      ]
    }
  ],
  "metadata": {
    "colab": {
      "name": "Olá, este é o Colaboratory",
      "provenance": [],
      "include_colab_link": true
    },
    "kernelspec": {
      "display_name": "Python 3",
      "name": "python3"
    }
  },
  "nbformat": 4,
  "nbformat_minor": 0
}